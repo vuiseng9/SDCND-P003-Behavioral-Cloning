{
 "cells": [
  {
   "cell_type": "code",
   "execution_count": 1,
   "metadata": {
    "collapsed": true
   },
   "outputs": [],
   "source": [
    "import csv\n",
    "import cv2\n",
    "import numpy as np\n",
    "\n",
    "lines = []\n",
    "\n",
    "with open('../data/driving_log.csv') as csvfile:\n",
    "    reader = csv.reader(csvfile)\n",
    "    next(csvfile)\n",
    "    for line in reader:\n",
    "        lines.append(line)\n",
    "\n",
    "images = []\n",
    "measurements = []\n",
    "\n",
    "for line in lines:\n",
    "    source_path = line[0]\n",
    "    filename = source_path.split('/')[-1]\n",
    "    current_path = '../data/IMG/' + filename\n",
    "    image = cv2.imread(current_path)\n",
    "    images.append(image)\n",
    "    measurement = float(line[3])\n",
    "    measurements.append(measurement)\n",
    "\n",
    "X_train = np.array(images)\n",
    "y_train = np.array(measurements)"
   ]
  },
  {
   "cell_type": "code",
   "execution_count": 2,
   "metadata": {},
   "outputs": [
    {
     "name": "stderr",
     "output_type": "stream",
     "text": [
      "Using TensorFlow backend.\n"
     ]
    }
   ],
   "source": [
    "from keras.models import Sequential\n",
    "from keras.layers import Flatten, Dense, Lambda\n",
    "from keras.layers.convolutional import Conv2D\n",
    "from keras.layers.pooling import MaxPool2D"
   ]
  },
  {
   "cell_type": "code",
   "execution_count": 3,
   "metadata": {},
   "outputs": [
    {
     "name": "stdout",
     "output_type": "stream",
     "text": [
      "Train on 6428 samples, validate on 1608 samples\n",
      "Epoch 1/5\n",
      "6428/6428 [==============================] - 258s - loss: 16.4324 - val_loss: 0.0230\n",
      "Epoch 2/5\n",
      "6428/6428 [==============================] - 257s - loss: 0.0148 - val_loss: 0.0145\n",
      "Epoch 3/5\n",
      "6428/6428 [==============================] - 256s - loss: 0.0110 - val_loss: 0.0123\n",
      "Epoch 4/5\n",
      "6428/6428 [==============================] - 255s - loss: 0.0100 - val_loss: 0.0125\n",
      "Epoch 5/5\n",
      "6428/6428 [==============================] - 254s - loss: 0.0094 - val_loss: 0.0125\n",
      "_________________________________________________________________\n",
      "Layer (type)                 Output Shape              Param #   \n",
      "=================================================================\n",
      "lambda_1 (Lambda)            (None, 160, 320, 3)       0         \n",
      "_________________________________________________________________\n",
      "conv2d_1 (Conv2D)            (None, 156, 316, 6)       456       \n",
      "_________________________________________________________________\n",
      "max_pooling2d_1 (MaxPooling2 (None, 78, 158, 6)        0         \n",
      "_________________________________________________________________\n",
      "conv2d_2 (Conv2D)            (None, 74, 154, 32)       4832      \n",
      "_________________________________________________________________\n",
      "max_pooling2d_2 (MaxPooling2 (None, 37, 77, 32)        0         \n",
      "_________________________________________________________________\n",
      "flatten_1 (Flatten)          (None, 91168)             0         \n",
      "_________________________________________________________________\n",
      "dense_1 (Dense)              (None, 120)               10940280  \n",
      "_________________________________________________________________\n",
      "dense_2 (Dense)              (None, 84)                10164     \n",
      "_________________________________________________________________\n",
      "dense_3 (Dense)              (None, 1)                 85        \n",
      "=================================================================\n",
      "Total params: 10,955,817\n",
      "Trainable params: 10,955,817\n",
      "Non-trainable params: 0\n",
      "_________________________________________________________________\n",
      "None\n"
     ]
    }
   ],
   "source": [
    "model = Sequential()\n",
    "model.add(Lambda(lambda x: (x/255.0) - 0.5, input_shape=(160,320,3)))\n",
    "model.add(Conv2D(6, (5, 5), activation='relu'))\n",
    "model.add(MaxPool2D())\n",
    "model.add(Conv2D(32, (5, 5), activation='relu'))\n",
    "model.add(MaxPool2D())\n",
    "model.add(Flatten())\n",
    "model.add(Dense(120))\n",
    "model.add(Dense(84))\n",
    "model.add(Dense(1))\n",
    "model.compile(loss='mse', optimizer = 'adam')# a FC network\n",
    "from keras.models import Sequential\n",
    "from keras.layers import Flatten, Dense\n",
    "model.fit(X_train,y_train, validation_split=0.2, shuffle=True, initial_epoch=0, epochs=5)\n",
    "\n",
    "model.save('Lenet5.h5')\n",
    "print(model.summary())"
   ]
  },
  {
   "cell_type": "code",
   "execution_count": 5,
   "metadata": {},
   "outputs": [
    {
     "data": {
      "image/svg+xml": [
       "<svg height=\"702pt\" viewBox=\"0.00 0.00 262.00 702.00\" width=\"262pt\" xmlns=\"http://www.w3.org/2000/svg\" xmlns:xlink=\"http://www.w3.org/1999/xlink\">\n",
       "<g class=\"graph\" id=\"graph0\" transform=\"scale(1 1) rotate(0) translate(4 698)\">\n",
       "<title>G</title>\n",
       "<polygon fill=\"white\" points=\"-4,4 -4,-698 258,-698 258,4 -4,4\" stroke=\"none\"/>\n",
       "<!-- 139852001304360 -->\n",
       "<g class=\"node\" id=\"node1\"><title>139852001304360</title>\n",
       "<polygon fill=\"none\" points=\"17,-657.5 17,-693.5 237,-693.5 237,-657.5 17,-657.5\" stroke=\"black\"/>\n",
       "<text font-family=\"Times,serif\" font-size=\"14.00\" text-anchor=\"middle\" x=\"127\" y=\"-671.8\">lambda_1_input: InputLayer</text>\n",
       "</g>\n",
       "<!-- 139852001304192 -->\n",
       "<g class=\"node\" id=\"node2\"><title>139852001304192</title>\n",
       "<polygon fill=\"none\" points=\"51,-584.5 51,-620.5 203,-620.5 203,-584.5 51,-584.5\" stroke=\"black\"/>\n",
       "<text font-family=\"Times,serif\" font-size=\"14.00\" text-anchor=\"middle\" x=\"127\" y=\"-598.8\">lambda_1: Lambda</text>\n",
       "</g>\n",
       "<!-- 139852001304360&#45;&gt;139852001304192 -->\n",
       "<g class=\"edge\" id=\"edge1\"><title>139852001304360-&gt;139852001304192</title>\n",
       "<path d=\"M127,-657.313C127,-649.289 127,-639.547 127,-630.569\" fill=\"none\" stroke=\"black\"/>\n",
       "<polygon fill=\"black\" points=\"130.5,-630.529 127,-620.529 123.5,-630.529 130.5,-630.529\" stroke=\"black\"/>\n",
       "</g>\n",
       "<!-- 139852001304304 -->\n",
       "<g class=\"node\" id=\"node3\"><title>139852001304304</title>\n",
       "<polygon fill=\"none\" points=\"51.5,-511.5 51.5,-547.5 202.5,-547.5 202.5,-511.5 51.5,-511.5\" stroke=\"black\"/>\n",
       "<text font-family=\"Times,serif\" font-size=\"14.00\" text-anchor=\"middle\" x=\"127\" y=\"-525.8\">conv2d_1: Conv2D</text>\n",
       "</g>\n",
       "<!-- 139852001304192&#45;&gt;139852001304304 -->\n",
       "<g class=\"edge\" id=\"edge2\"><title>139852001304192-&gt;139852001304304</title>\n",
       "<path d=\"M127,-584.313C127,-576.289 127,-566.547 127,-557.569\" fill=\"none\" stroke=\"black\"/>\n",
       "<polygon fill=\"black\" points=\"130.5,-557.529 127,-547.529 123.5,-557.529 130.5,-557.529\" stroke=\"black\"/>\n",
       "</g>\n",
       "<!-- 139852001337584 -->\n",
       "<g class=\"node\" id=\"node4\"><title>139852001337584</title>\n",
       "<polygon fill=\"none\" points=\"0,-438.5 0,-474.5 254,-474.5 254,-438.5 0,-438.5\" stroke=\"black\"/>\n",
       "<text font-family=\"Times,serif\" font-size=\"14.00\" text-anchor=\"middle\" x=\"127\" y=\"-452.8\">max_pooling2d_1: MaxPooling2D</text>\n",
       "</g>\n",
       "<!-- 139852001304304&#45;&gt;139852001337584 -->\n",
       "<g class=\"edge\" id=\"edge3\"><title>139852001304304-&gt;139852001337584</title>\n",
       "<path d=\"M127,-511.313C127,-503.289 127,-493.547 127,-484.569\" fill=\"none\" stroke=\"black\"/>\n",
       "<polygon fill=\"black\" points=\"130.5,-484.529 127,-474.529 123.5,-484.529 130.5,-484.529\" stroke=\"black\"/>\n",
       "</g>\n",
       "<!-- 139852001340664 -->\n",
       "<g class=\"node\" id=\"node5\"><title>139852001340664</title>\n",
       "<polygon fill=\"none\" points=\"51.5,-365.5 51.5,-401.5 202.5,-401.5 202.5,-365.5 51.5,-365.5\" stroke=\"black\"/>\n",
       "<text font-family=\"Times,serif\" font-size=\"14.00\" text-anchor=\"middle\" x=\"127\" y=\"-379.8\">conv2d_2: Conv2D</text>\n",
       "</g>\n",
       "<!-- 139852001337584&#45;&gt;139852001340664 -->\n",
       "<g class=\"edge\" id=\"edge4\"><title>139852001337584-&gt;139852001340664</title>\n",
       "<path d=\"M127,-438.313C127,-430.289 127,-420.547 127,-411.569\" fill=\"none\" stroke=\"black\"/>\n",
       "<polygon fill=\"black\" points=\"130.5,-411.529 127,-401.529 123.5,-411.529 130.5,-411.529\" stroke=\"black\"/>\n",
       "</g>\n",
       "<!-- 139852000871872 -->\n",
       "<g class=\"node\" id=\"node6\"><title>139852000871872</title>\n",
       "<polygon fill=\"none\" points=\"0,-292.5 0,-328.5 254,-328.5 254,-292.5 0,-292.5\" stroke=\"black\"/>\n",
       "<text font-family=\"Times,serif\" font-size=\"14.00\" text-anchor=\"middle\" x=\"127\" y=\"-306.8\">max_pooling2d_2: MaxPooling2D</text>\n",
       "</g>\n",
       "<!-- 139852001340664&#45;&gt;139852000871872 -->\n",
       "<g class=\"edge\" id=\"edge5\"><title>139852001340664-&gt;139852000871872</title>\n",
       "<path d=\"M127,-365.313C127,-357.289 127,-347.547 127,-338.569\" fill=\"none\" stroke=\"black\"/>\n",
       "<polygon fill=\"black\" points=\"130.5,-338.529 127,-328.529 123.5,-338.529 130.5,-338.529\" stroke=\"black\"/>\n",
       "</g>\n",
       "<!-- 139852000964560 -->\n",
       "<g class=\"node\" id=\"node7\"><title>139852000964560</title>\n",
       "<polygon fill=\"none\" points=\"56.5,-219.5 56.5,-255.5 197.5,-255.5 197.5,-219.5 56.5,-219.5\" stroke=\"black\"/>\n",
       "<text font-family=\"Times,serif\" font-size=\"14.00\" text-anchor=\"middle\" x=\"127\" y=\"-233.8\">flatten_1: Flatten</text>\n",
       "</g>\n",
       "<!-- 139852000871872&#45;&gt;139852000964560 -->\n",
       "<g class=\"edge\" id=\"edge6\"><title>139852000871872-&gt;139852000964560</title>\n",
       "<path d=\"M127,-292.313C127,-284.289 127,-274.547 127,-265.569\" fill=\"none\" stroke=\"black\"/>\n",
       "<polygon fill=\"black\" points=\"130.5,-265.529 127,-255.529 123.5,-265.529 130.5,-265.529\" stroke=\"black\"/>\n",
       "</g>\n",
       "<!-- 139852001038008 -->\n",
       "<g class=\"node\" id=\"node8\"><title>139852001038008</title>\n",
       "<polygon fill=\"none\" points=\"63,-146.5 63,-182.5 191,-182.5 191,-146.5 63,-146.5\" stroke=\"black\"/>\n",
       "<text font-family=\"Times,serif\" font-size=\"14.00\" text-anchor=\"middle\" x=\"127\" y=\"-160.8\">dense_1: Dense</text>\n",
       "</g>\n",
       "<!-- 139852000964560&#45;&gt;139852001038008 -->\n",
       "<g class=\"edge\" id=\"edge7\"><title>139852000964560-&gt;139852001038008</title>\n",
       "<path d=\"M127,-219.313C127,-211.289 127,-201.547 127,-192.569\" fill=\"none\" stroke=\"black\"/>\n",
       "<polygon fill=\"black\" points=\"130.5,-192.529 127,-182.529 123.5,-192.529 130.5,-192.529\" stroke=\"black\"/>\n",
       "</g>\n",
       "<!-- 139852000565456 -->\n",
       "<g class=\"node\" id=\"node9\"><title>139852000565456</title>\n",
       "<polygon fill=\"none\" points=\"63,-73.5 63,-109.5 191,-109.5 191,-73.5 63,-73.5\" stroke=\"black\"/>\n",
       "<text font-family=\"Times,serif\" font-size=\"14.00\" text-anchor=\"middle\" x=\"127\" y=\"-87.8\">dense_2: Dense</text>\n",
       "</g>\n",
       "<!-- 139852001038008&#45;&gt;139852000565456 -->\n",
       "<g class=\"edge\" id=\"edge8\"><title>139852001038008-&gt;139852000565456</title>\n",
       "<path d=\"M127,-146.313C127,-138.289 127,-128.547 127,-119.569\" fill=\"none\" stroke=\"black\"/>\n",
       "<polygon fill=\"black\" points=\"130.5,-119.529 127,-109.529 123.5,-119.529 130.5,-119.529\" stroke=\"black\"/>\n",
       "</g>\n",
       "<!-- 139852000626392 -->\n",
       "<g class=\"node\" id=\"node10\"><title>139852000626392</title>\n",
       "<polygon fill=\"none\" points=\"63,-0.5 63,-36.5 191,-36.5 191,-0.5 63,-0.5\" stroke=\"black\"/>\n",
       "<text font-family=\"Times,serif\" font-size=\"14.00\" text-anchor=\"middle\" x=\"127\" y=\"-14.8\">dense_3: Dense</text>\n",
       "</g>\n",
       "<!-- 139852000565456&#45;&gt;139852000626392 -->\n",
       "<g class=\"edge\" id=\"edge9\"><title>139852000565456-&gt;139852000626392</title>\n",
       "<path d=\"M127,-73.3129C127,-65.2895 127,-55.5475 127,-46.5691\" fill=\"none\" stroke=\"black\"/>\n",
       "<polygon fill=\"black\" points=\"130.5,-46.5288 127,-36.5288 123.5,-46.5289 130.5,-46.5288\" stroke=\"black\"/>\n",
       "</g>\n",
       "</g>\n",
       "</svg>"
      ],
      "text/plain": [
       "<IPython.core.display.SVG object>"
      ]
     },
     "execution_count": 5,
     "metadata": {},
     "output_type": "execute_result"
    }
   ],
   "source": [
    "from IPython.display import SVG\n",
    "from keras.utils.vis_utils import model_to_dot\n",
    "\n",
    "SVG(model_to_dot(model).create(prog='dot', format='svg'))"
   ]
  },
  {
   "cell_type": "code",
   "execution_count": null,
   "metadata": {
    "collapsed": true
   },
   "outputs": [],
   "source": []
  }
 ],
 "metadata": {
  "kernelspec": {
   "display_name": "Python 3",
   "language": "python",
   "name": "python3"
  },
  "language_info": {
   "codemirror_mode": {
    "name": "ipython",
    "version": 3
   },
   "file_extension": ".py",
   "mimetype": "text/x-python",
   "name": "python",
   "nbconvert_exporter": "python",
   "pygments_lexer": "ipython3",
   "version": "3.5.2"
  },
  "widgets": {
   "state": {},
   "version": "1.1.2"
  }
 },
 "nbformat": 4,
 "nbformat_minor": 2
}
