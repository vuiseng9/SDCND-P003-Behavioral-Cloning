{
 "cells": [
  {
   "cell_type": "code",
   "execution_count": 1,
   "metadata": {
    "collapsed": true
   },
   "outputs": [],
   "source": [
    "import csv\n",
    "import cv2\n",
    "import numpy as np\n",
    "\n",
    "lines = []\n",
    "\n",
    "with open('../data/driving_log.csv') as csvfile:\n",
    "    reader = csv.reader(csvfile)\n",
    "    next(csvfile)\n",
    "    for line in reader:\n",
    "        lines.append(line)\n",
    "        # print(line)\n",
    "\n",
    "images = []\n",
    "measurements = []\n",
    "\n",
    "for line in lines:\n",
    "    source_path = line[0]\n",
    "    filename = source_path.split('/')[-1]\n",
    "    current_path = '../data/IMG/' + filename\n",
    "    image = cv2.imread(current_path)\n",
    "    images.append(image)\n",
    "    measurement = float(line[3])\n",
    "    measurements.append(measurement)\n",
    "\n",
    "X_train = np.array(images)\n",
    "y_train = np.array(measurements)"
   ]
  },
  {
   "cell_type": "code",
   "execution_count": 2,
   "metadata": {},
   "outputs": [
    {
     "name": "stderr",
     "output_type": "stream",
     "text": [
      "Using TensorFlow backend.\n"
     ]
    }
   ],
   "source": [
    "# a FC network\n",
    "from keras.models import Sequential\n",
    "from keras.layers import Flatten, Dense, Lambda"
   ]
  },
  {
   "cell_type": "code",
   "execution_count": 12,
   "metadata": {},
   "outputs": [
    {
     "name": "stdout",
     "output_type": "stream",
     "text": [
      "Train on 6428 samples, validate on 1608 samples\n",
      "Epoch 1/1\n",
      "6428/6428 [==============================] - 7s - loss: 1.5270 - val_loss: 0.6850\n",
      "_________________________________________________________________\n",
      "Layer (type)                 Output Shape              Param #   \n",
      "=================================================================\n",
      "lambda_6 (Lambda)            (None, 160, 320, 3)       0         \n",
      "_________________________________________________________________\n",
      "flatten_6 (Flatten)          (None, 153600)            0         \n",
      "_________________________________________________________________\n",
      "dense_6 (Dense)              (None, 1)                 153601    \n",
      "=================================================================\n",
      "Total params: 153,601\n",
      "Trainable params: 153,601\n",
      "Non-trainable params: 0\n",
      "_________________________________________________________________\n",
      "None\n"
     ]
    }
   ],
   "source": [
    "model = Sequential()\n",
    "model.add(Lambda(lambda x: ((x/255.0) - 0.5), input_shape=(160,320,3)))\n",
    "model.add(Flatten())\n",
    "model.add(Dense(1))\n",
    "model.compile(loss='mse', optimizer = 'adam')# a FC network\n",
    "from keras.models import Sequential\n",
    "from keras.layers import Flatten, Dense\n",
    "model.fit(X_train,y_train, validation_split=0.2, shuffle=True, initial_epoch=0, epochs=1)\n",
    "\n",
    "model.save('single-layer-fc-model.h5')\n",
    "print(model.summary())"
   ]
  },
  {
   "cell_type": "code",
   "execution_count": 13,
   "metadata": {},
   "outputs": [
    {
     "data": {
      "image/svg+xml": [
       "<svg height=\"264pt\" viewBox=\"0.00 0.00 228.00 264.00\" width=\"228pt\" xmlns=\"http://www.w3.org/2000/svg\" xmlns:xlink=\"http://www.w3.org/1999/xlink\">\n",
       "<g class=\"graph\" id=\"graph0\" transform=\"scale(1 1) rotate(0) translate(4 260)\">\n",
       "<title>G</title>\n",
       "<polygon fill=\"white\" points=\"-4,4 -4,-260 224,-260 224,4 -4,4\" stroke=\"none\"/>\n",
       "<!-- 140570475888200 -->\n",
       "<g class=\"node\" id=\"node1\"><title>140570475888200</title>\n",
       "<polygon fill=\"none\" points=\"0,-219.5 0,-255.5 220,-255.5 220,-219.5 0,-219.5\" stroke=\"black\"/>\n",
       "<text font-family=\"Times,serif\" font-size=\"14.00\" text-anchor=\"middle\" x=\"110\" y=\"-233.8\">lambda_6_input: InputLayer</text>\n",
       "</g>\n",
       "<!-- 140570475887808 -->\n",
       "<g class=\"node\" id=\"node2\"><title>140570475887808</title>\n",
       "<polygon fill=\"none\" points=\"34,-146.5 34,-182.5 186,-182.5 186,-146.5 34,-146.5\" stroke=\"black\"/>\n",
       "<text font-family=\"Times,serif\" font-size=\"14.00\" text-anchor=\"middle\" x=\"110\" y=\"-160.8\">lambda_6: Lambda</text>\n",
       "</g>\n",
       "<!-- 140570475888200&#45;&gt;140570475887808 -->\n",
       "<g class=\"edge\" id=\"edge1\"><title>140570475888200-&gt;140570475887808</title>\n",
       "<path d=\"M110,-219.313C110,-211.289 110,-201.547 110,-192.569\" fill=\"none\" stroke=\"black\"/>\n",
       "<polygon fill=\"black\" points=\"113.5,-192.529 110,-182.529 106.5,-192.529 113.5,-192.529\" stroke=\"black\"/>\n",
       "</g>\n",
       "<!-- 140570475888536 -->\n",
       "<g class=\"node\" id=\"node3\"><title>140570475888536</title>\n",
       "<polygon fill=\"none\" points=\"39.5,-73.5 39.5,-109.5 180.5,-109.5 180.5,-73.5 39.5,-73.5\" stroke=\"black\"/>\n",
       "<text font-family=\"Times,serif\" font-size=\"14.00\" text-anchor=\"middle\" x=\"110\" y=\"-87.8\">flatten_6: Flatten</text>\n",
       "</g>\n",
       "<!-- 140570475887808&#45;&gt;140570475888536 -->\n",
       "<g class=\"edge\" id=\"edge2\"><title>140570475887808-&gt;140570475888536</title>\n",
       "<path d=\"M110,-146.313C110,-138.289 110,-128.547 110,-119.569\" fill=\"none\" stroke=\"black\"/>\n",
       "<polygon fill=\"black\" points=\"113.5,-119.529 110,-109.529 106.5,-119.529 113.5,-119.529\" stroke=\"black\"/>\n",
       "</g>\n",
       "<!-- 140570475888312 -->\n",
       "<g class=\"node\" id=\"node4\"><title>140570475888312</title>\n",
       "<polygon fill=\"none\" points=\"46,-0.5 46,-36.5 174,-36.5 174,-0.5 46,-0.5\" stroke=\"black\"/>\n",
       "<text font-family=\"Times,serif\" font-size=\"14.00\" text-anchor=\"middle\" x=\"110\" y=\"-14.8\">dense_6: Dense</text>\n",
       "</g>\n",
       "<!-- 140570475888536&#45;&gt;140570475888312 -->\n",
       "<g class=\"edge\" id=\"edge3\"><title>140570475888536-&gt;140570475888312</title>\n",
       "<path d=\"M110,-73.3129C110,-65.2895 110,-55.5475 110,-46.5691\" fill=\"none\" stroke=\"black\"/>\n",
       "<polygon fill=\"black\" points=\"113.5,-46.5288 110,-36.5288 106.5,-46.5289 113.5,-46.5288\" stroke=\"black\"/>\n",
       "</g>\n",
       "</g>\n",
       "</svg>"
      ],
      "text/plain": [
       "<IPython.core.display.SVG object>"
      ]
     },
     "execution_count": 13,
     "metadata": {},
     "output_type": "execute_result"
    }
   ],
   "source": [
    "from IPython.display import SVG\n",
    "from keras.utils.vis_utils import model_to_dot\n",
    "\n",
    "SVG(model_to_dot(model).create(prog='dot', format='svg'))"
   ]
  },
  {
   "cell_type": "code",
   "execution_count": 4,
   "metadata": {
    "collapsed": true
   },
   "outputs": [],
   "source": [
    "# Save the above visualisation to an image\n",
    "# from keras.utils import plot_model\n",
    "# plot_model(model, to_file='model.png')"
   ]
  },
  {
   "cell_type": "code",
   "execution_count": 13,
   "metadata": {
    "collapsed": true
   },
   "outputs": [],
   "source": [
    "# model.h5 will be generated.\n",
    "# Use that to feed to simulater\n",
    "# >> python drive.py model.h5\n",
    "# launch simulator"
   ]
  },
  {
   "cell_type": "code",
   "execution_count": null,
   "metadata": {
    "collapsed": true
   },
   "outputs": [],
   "source": []
  }
 ],
 "metadata": {
  "kernelspec": {
   "display_name": "Python 3",
   "language": "python",
   "name": "python3"
  },
  "language_info": {
   "codemirror_mode": {
    "name": "ipython",
    "version": 3
   },
   "file_extension": ".py",
   "mimetype": "text/x-python",
   "name": "python",
   "nbconvert_exporter": "python",
   "pygments_lexer": "ipython3",
   "version": "3.5.2"
  },
  "widgets": {
   "state": {},
   "version": "1.1.2"
  }
 },
 "nbformat": 4,
 "nbformat_minor": 2
}
