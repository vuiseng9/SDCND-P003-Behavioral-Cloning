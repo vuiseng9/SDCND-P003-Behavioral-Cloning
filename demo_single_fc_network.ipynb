{
 "cells": [
  {
   "cell_type": "code",
   "execution_count": 1,
   "metadata": {
    "collapsed": true
   },
   "outputs": [],
   "source": [
    "import csv\n",
    "import cv2\n",
    "import numpy as np\n",
    "\n",
    "lines = []\n",
    "\n",
    "with open('./data/driving_log.csv') as csvfile:\n",
    "    reader = csv.reader(csvfile)\n",
    "    next(csvfile)\n",
    "    for line in reader:\n",
    "        lines.append(line)\n",
    "        # print(line)\n",
    "\n",
    "images = []\n",
    "measurements = []\n",
    "\n",
    "for line in lines:\n",
    "    source_path = line[0]\n",
    "    filename = source_path.split('/')[-1]\n",
    "    current_path = './data/IMG/' + filename\n",
    "    image = cv2.imread(current_path)\n",
    "    images.append(image)\n",
    "    measurement = float(line[3])\n",
    "    measurements.append(measurement)\n",
    "\n",
    "X_train = np.array(images)\n",
    "y_train = np.array(measurements)"
   ]
  },
  {
   "cell_type": "code",
   "execution_count": 7,
   "metadata": {},
   "outputs": [],
   "source": [
    "# a FC network\n",
    "from keras.models import Sequential\n",
    "from keras.layers import Flatten, Dense, Lambda"
   ]
  },
  {
   "cell_type": "code",
   "execution_count": 12,
   "metadata": {},
   "outputs": [
    {
     "name": "stdout",
     "output_type": "stream",
     "text": [
      "Train on 6428 samples, validate on 1608 samples\n",
      "Epoch 1/15\n",
      "6428/6428 [==============================] - 6s - loss: 2.2149 - val_loss: 0.6393\n",
      "Epoch 2/15\n",
      "6428/6428 [==============================] - 6s - loss: 1.8201 - val_loss: 2.7521\n",
      "Epoch 3/15\n",
      "6428/6428 [==============================] - 6s - loss: 4.6722 - val_loss: 2.8236\n",
      "Epoch 4/15\n",
      "6428/6428 [==============================] - 6s - loss: 3.8031 - val_loss: 3.8285\n",
      "Epoch 5/15\n",
      "6428/6428 [==============================] - 6s - loss: 3.6588 - val_loss: 2.6079\n",
      "Epoch 6/15\n",
      "6428/6428 [==============================] - 6s - loss: 3.5522 - val_loss: 2.4922\n",
      "Epoch 7/15\n",
      "6428/6428 [==============================] - 6s - loss: 3.1886 - val_loss: 2.9857\n",
      "Epoch 8/15\n",
      "6428/6428 [==============================] - 6s - loss: 3.2877 - val_loss: 1.9162\n",
      "Epoch 9/15\n",
      "6428/6428 [==============================] - 6s - loss: 2.8490 - val_loss: 2.0066\n",
      "Epoch 10/15\n",
      "6428/6428 [==============================] - 6s - loss: 3.3901 - val_loss: 2.4187\n",
      "Epoch 11/15\n",
      "6428/6428 [==============================] - 6s - loss: 3.9033 - val_loss: 2.3665\n",
      "Epoch 12/15\n",
      "6428/6428 [==============================] - 6s - loss: 3.5208 - val_loss: 1.8564\n",
      "Epoch 13/15\n",
      "6428/6428 [==============================] - 6s - loss: 3.2664 - val_loss: 2.7117\n",
      "Epoch 14/15\n",
      "6428/6428 [==============================] - 8s - loss: 3.8403 - val_loss: 3.4456\n",
      "Epoch 15/15\n",
      "6428/6428 [==============================] - 7s - loss: 4.1440 - val_loss: 4.9868\n"
     ]
    }
   ],
   "source": [
    "model = Sequential()\n",
    "model.add(Lambda(lambda x: (x/255.0) - 0.5, input_shape=(160,320,3)))\n",
    "model.add(Flatten())\n",
    "model.add(Dense(1))\n",
    "model.compile(loss='mse', optimizer = 'adam')# a FC network\n",
    "from keras.models import Sequential\n",
    "from keras.layers import Flatten, Dense\n",
    "model.fit(X_train,y_train, validation_split=0.2, shuffle=True, initial_epoch=0, epochs=15)\n",
    "\n",
    "model.save('model.h5')"
   ]
  },
  {
   "cell_type": "code",
   "execution_count": 4,
   "metadata": {
    "collapsed": true
   },
   "outputs": [],
   "source": [
    "# model.h5 will be generated.\n",
    "# Use that to feed to simulater\n",
    "# >> python drive.py model.h5\n",
    "# launch simulator"
   ]
  },
  {
   "cell_type": "code",
   "execution_count": null,
   "metadata": {
    "collapsed": true
   },
   "outputs": [],
   "source": []
  }
 ],
 "metadata": {
  "kernelspec": {
   "display_name": "py35",
   "language": "python",
   "name": "py35"
  },
  "language_info": {
   "codemirror_mode": {
    "name": "ipython",
    "version": 3
   },
   "file_extension": ".py",
   "mimetype": "text/x-python",
   "name": "python",
   "nbconvert_exporter": "python",
   "pygments_lexer": "ipython3",
   "version": "3.5.3"
  }
 },
 "nbformat": 4,
 "nbformat_minor": 2
}
